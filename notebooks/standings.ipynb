{
 "cells": [
  {
   "cell_type": "markdown",
   "id": "ebcfe0b1-2671-44e0-98fb-4cb1f55275b4",
   "metadata": {},
   "source": [
    "# Calculating Team Standings"
   ]
  },
  {
   "cell_type": "code",
   "execution_count": null,
   "id": "954c833f-c75e-4c6c-bd52-0e9feaa2a228",
   "metadata": {},
   "outputs": [],
   "source": [
    "%maven org.dflib:dflib-jupyter:1.0.0-M20\n",
    "%maven org.postgresql:postgresql:42.7.2"
   ]
  },
  {
   "cell_type": "code",
   "execution_count": null,
   "id": "e7a0f284-c6e5-402c-9cd7-de237b771f82",
   "metadata": {},
   "outputs": [],
   "source": [
    "import org.dflib.jupyter.*;\n",
    "import org.dflib.*;\n",
    "import org.dflib.csv.*;\n",
    "import org.dflib.jdbc.*;\n",
    "\n",
    "import static org.dflib.Exp.*;\n",
    "\n",
    "DFLibJupyter.init(getKernelInstance());"
   ]
  },
  {
   "cell_type": "code",
   "execution_count": null,
   "id": "93a68a3d-d44a-458e-a5c8-c524a339421b",
   "metadata": {},
   "outputs": [],
   "source": [
    "var df1 = Csv.load(\"../data/games.csv\");\n",
    "\n",
    "DFLibJupyter.setMaxDisplayRows(8);\n",
    "df1"
   ]
  },
  {
   "cell_type": "code",
   "execution_count": null,
   "id": "bbb45ae7-801e-40d2-bd57-829ddb323399",
   "metadata": {},
   "outputs": [],
   "source": [
    "df1.getColumn(\"game_state\").valueCounts()"
   ]
  },
  {
   "cell_type": "code",
   "execution_count": null,
   "id": "a86a20c0-9439-440d-82b5-d87fcf045042",
   "metadata": {},
   "outputs": [],
   "source": [
    "var df2 = df1.rows($col(\"game_state\").in(\"OFF\", \"FINAL\"))\n",
    "    .cols(\"away_team\", \"home_team\", \"away_score\", \"home_score\", \"overtime\")\n",
    "    .select();\n",
    "df2"
   ]
  },
  {
   "cell_type": "code",
   "execution_count": null,
   "id": "12e2907e-3e89-4e73-bf4b-32bbcdd822c9",
   "metadata": {},
   "outputs": [],
   "source": [
    "var df3a = df2.cols(\"team\", \"score\", \"opposing_score\", \"overtime\")\n",
    "    .select(\n",
    "        $col(\"away_team\"),\n",
    "        $col(\"away_score\"),\n",
    "        $col(\"home_score\"),\n",
    "        $col(\"overtime\")\n",
    "    );\n",
    "\n",
    "var df3h = df2.cols(\"team\", \"score\", \"opposing_score\", \"overtime\")\n",
    "    .select(\n",
    "        $col(\"home_team\"),\n",
    "        $col(\"home_score\"),\n",
    "        $col(\"away_score\"),\n",
    "        $col(\"overtime\")\n",
    "    );\n",
    "\n",
    "var df3 = df3a.vConcat(df3h);\n",
    "df3"
   ]
  },
  {
   "cell_type": "code",
   "execution_count": null,
   "id": "e29ac08d-d698-4b20-8bfe-b56726318dac",
   "metadata": {},
   "outputs": [],
   "source": [
    "var df4 = df3\n",
    "    .cols(\"overtime\", \"goal_diff\").map(\n",
    "        $str(\"overtime\").mapVal(o -> !o.isBlank()),\n",
    "        $str(\"score\").castAsInt().sub($str(\"opposing_score\").castAsInt())\n",
    "    );\n",
    "    \n",
    "df4;"
   ]
  },
  {
   "cell_type": "code",
   "execution_count": null,
   "id": "76b4d122-6395-4662-ab77-c5dbcd643127",
   "metadata": {},
   "outputs": [],
   "source": [
    "var df5 = df4\n",
    "    .cols(\"points\").map(\n",
    "        ifExp($int(\"goal_diff\").ge(0), $val(2), ifExp($bool(\"overtime\"), $val(1), $val(0)))\n",
    "    );\n",
    "\n",
    "df5"
   ]
  },
  {
   "cell_type": "markdown",
   "id": "309e3a0c-c58b-436b-97a1-d5ed6c41a009",
   "metadata": {},
   "source": [
    "## Aggregate Standings"
   ]
  },
  {
   "cell_type": "code",
   "execution_count": null,
   "id": "22b1cb34-b628-4013-bffb-5a112764d81c",
   "metadata": {},
   "outputs": [],
   "source": [
    "var df6 = df5.group(\"team\")\n",
    "    .agg(\n",
    "        $col(\"team\").first(),\n",
    "        $int(\"points\").sum().as(\"points\"),\n",
    "        $int(\"goal_diff\").sum().as(\"goal_diff\"),\n",
    "        count().as(\"games_played\")\n",
    "    )\n",
    "    .sort($int(\"points\").desc(), $int(\"games_played\").asc(), $int(\"goal_diff\").desc())\n",
    "    .cols(\"rank\").map(rowNum());\n",
    "\n",
    "DFLibJupyter.setMaxDisplayRows(32);\n",
    "\n",
    "df6"
   ]
  },
  {
   "cell_type": "code",
   "execution_count": null,
   "id": "ae23ab0d-0326-4a17-8fe1-552a2bf45376",
   "metadata": {},
   "outputs": [],
   "source": [
    "var connector = Jdbc.connector(\"jdbc:postgresql://localhost:15432/\")\n",
    "    .userName(\"postgres\")\n",
    "    .password(\"test\")\n",
    "    .build();\n",
    "\n",
    "connector"
   ]
  },
  {
   "cell_type": "code",
   "execution_count": null,
   "id": "5d0c1c51-0a67-486f-a668-20557b4bd157",
   "metadata": {},
   "outputs": [],
   "source": [
    "connector.tableSaver(\"standings\").mergeByColumns(\"team\").save(df6)"
   ]
  },
  {
   "cell_type": "code",
   "execution_count": null,
   "id": "6a878059-4687-495d-a169-88d747ecfac2",
   "metadata": {},
   "outputs": [],
   "source": []
  }
 ],
 "metadata": {
  "kernelspec": {
   "display_name": "Java",
   "language": "java",
   "name": "java"
  },
  "language_info": {
   "codemirror_mode": "java",
   "file_extension": ".jshell",
   "mimetype": "text/x-java-source",
   "name": "Java",
   "pygments_lexer": "java",
   "version": "21+35-LTS"
  }
 },
 "nbformat": 4,
 "nbformat_minor": 5
}